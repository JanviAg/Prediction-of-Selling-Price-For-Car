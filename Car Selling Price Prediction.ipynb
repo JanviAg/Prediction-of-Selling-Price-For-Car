{
 "cells": [
  {
   "cell_type": "markdown",
   "id": "e7b71209",
   "metadata": {},
   "source": [
    "# Machine Learning\n",
    "<hr/>\n",
    "\n",
    "Submitted by <br>\n",
    "Name: **Janvi Agrawal** <br> \n",
    "<hr/>"
   ]
  },
  {
   "cell_type": "markdown",
   "id": "10f36c9f",
   "metadata": {},
   "source": [
    "# SECTION 1"
   ]
  },
  {
   "cell_type": "markdown",
   "id": "4bc84fa3",
   "metadata": {},
   "source": [
    "# Overview"
   ]
  },
  {
   "cell_type": "markdown",
   "id": "37fccef8",
   "metadata": {},
   "source": [
    "## Objectives\n",
    "Make and fine-tune a model, which is ready for deployment.<br>\n",
    "\n",
    "• Find out a Dataset, and compare at least two different algorithms and choose the best one<br>\n",
    "• Use suitable Data Preprocessing and Feature Selection/Engineering Methods<br>\n",
    "• Fine tune the model and hyper parameters and Finalise the Model<br>\n",
    "• Make the model deployment-ready by giving User-Input provision<br>\n",
    "\n",
    "For instance, if the problem is defined as \"Predicting Player Performance Category based on current form, age and number of fans\", the final output should be:<br>\n",
    "Enter your current form (1 - Excellent, 2 - Good, 3 - Bad): 2<br>\n",
    "Enter your age: 28<br>\n",
    "Enter the fanbase: 200000<br>\n",
    "\n",
    "\n",
    "Output:<br>\n",
    "You will be rated 3 Stars in the Player Performance Category"
   ]
  },
  {
   "cell_type": "markdown",
   "id": "49abea2e",
   "metadata": {},
   "source": [
    "## Problem Definition\n",
    "For above mentioned objectives, detailed analysis are being performed in this lab. And the purpose of the lab is to make and fine tune a model which is ready for deployment. \n",
    "\n"
   ]
  },
  {
   "cell_type": "markdown",
   "id": "3105b599",
   "metadata": {},
   "source": [
    "## Approach\n",
    "Jupyter Notebook is used for the succesful execution of this ML CAC-3!\n",
    "\n",
    "Approach which I followed is as follows:\n",
    "\n",
    "1. Identified various requirements of the lab as per sections.\n",
    "2. Went through sections of this Lab to understand its purpose and detailed idea of executing models to satisfy the needs of the questions:\n",
    "    \n",
    "    -->1. The <b>first section</b> consists of Lab-Overview part with objectives and problem definition, followed by approach and other sections of the lab.\n",
    "    \n",
    "    -->2. The <b>second section</b> consists of the EDA, visualization, model building with and without hyperparameter tuning.\n",
    "    \n",
    "    -->3. The <b>Third section</b> consists of user input module.\n",
    "    \n",
    "    -->4. The <b>Fourth section</b> consists of conlcusion.\n",
    "    \n",
    "    -->5. The <b>Fifth section</b> states reference links used throughout the lab. "
   ]
  },
  {
   "cell_type": "markdown",
   "id": "3a57e0c8",
   "metadata": {},
   "source": [
    "# SECTION 2"
   ]
  },
  {
   "cell_type": "markdown",
   "id": "31fb6707",
   "metadata": {},
   "source": [
    "# Question:\n",
    "### Identify and visualize which factors contribute to vehicle data:\n",
    "\n",
    "### Build a prediction model that will perform the following:\n",
    "\n",
    "### 1. Predict the selling price of a car\n",
    "### 2. Preferably and based on model performance, choose a model that will give you the best prediction."
   ]
  },
  {
   "cell_type": "markdown",
   "metadata": {},
   "source": [
    "### Importing necessary liabraries"
   ]
  },
  {
   "cell_type": "code",
   "execution_count": 1,
   "metadata": {},
   "outputs": [],
   "source": [
    "import sys\n",
    "if sys.version_info[0] == 3:\n",
    "    import tkinter as tk\n",
    "    from tkinter import filedialog as fd\n",
    "    from tkinter import ttk\n",
    "    from tkinter.messagebox import showinfo\n",
    "else:\n",
    "    import Tkinter as tk\n",
    "    from Tkinter import filedialog as fd\n",
    "    from Tkinter import ttk\n",
    "    from Tkinter.messagebox import showinfo"
   ]
  },
  {
   "cell_type": "code",
   "execution_count": 2,
   "metadata": {
    "id": "n6_SaYpXBcu1"
   },
   "outputs": [],
   "source": [
    "import numpy as np \n",
    "from math import sqrt\n",
    "import pandas as pd \n",
    "import matplotlib.pyplot as plt \n",
    "import seaborn as sns\n",
    "from sklearn.metrics import mean_squared_error\n",
    "from sklearn.preprocessing import LabelEncoder\n",
    "from sklearn.linear_model import Ridge\n",
    "from sklearn.linear_model import Lasso\n",
    "from sklearn.tree import DecisionTreeRegressor\n",
    "from sklearn.ensemble import RandomForestRegressor\n",
    "from sklearn.model_selection import GridSearchCV\n",
    "from sklearn.linear_model import LinearRegression\n",
    "from sklearn.metrics import r2_score\n",
    "import warnings\n",
    "warnings.filterwarnings(\"ignore\")\n",
    "%matplotlib inline"
   ]
  },
  {
   "cell_type": "code",
   "execution_count": 3,
   "metadata": {},
   "outputs": [],
   "source": [
    "root = tk.Tk()\n",
    "root.withdraw()\n",
    "\n",
    "file_path = fd.askopenfilename()"
   ]
  },
  {
   "cell_type": "code",
   "execution_count": 4,
   "metadata": {
    "id": "zRWnsDpIB-u2"
   },
   "outputs": [],
   "source": [
    "data=pd.read_excel(file_path)"
   ]
  },
  {
   "cell_type": "code",
   "execution_count": 5,
   "metadata": {},
   "outputs": [
    {
     "data": {
      "text/html": [
       "<div>\n",
       "<style scoped>\n",
       "    .dataframe tbody tr th:only-of-type {\n",
       "        vertical-align: middle;\n",
       "    }\n",
       "\n",
       "    .dataframe tbody tr th {\n",
       "        vertical-align: top;\n",
       "    }\n",
       "\n",
       "    .dataframe thead th {\n",
       "        text-align: right;\n",
       "    }\n",
       "</style>\n",
       "<table border=\"1\" class=\"dataframe\">\n",
       "  <thead>\n",
       "    <tr style=\"text-align: right;\">\n",
       "      <th></th>\n",
       "      <th>name</th>\n",
       "      <th>year</th>\n",
       "      <th>km_driven</th>\n",
       "      <th>fuel</th>\n",
       "      <th>seller_type</th>\n",
       "      <th>transmission</th>\n",
       "      <th>owner</th>\n",
       "      <th>mileage</th>\n",
       "      <th>engine</th>\n",
       "      <th>max_power</th>\n",
       "      <th>seats</th>\n",
       "      <th>selling_price</th>\n",
       "    </tr>\n",
       "  </thead>\n",
       "  <tbody>\n",
       "    <tr>\n",
       "      <th>0</th>\n",
       "      <td>Maruti Swift Dzire VDI</td>\n",
       "      <td>2014</td>\n",
       "      <td>145500</td>\n",
       "      <td>Diesel</td>\n",
       "      <td>Individual</td>\n",
       "      <td>Manual</td>\n",
       "      <td>First Owner</td>\n",
       "      <td>23.4 kmpl</td>\n",
       "      <td>1248 CC</td>\n",
       "      <td>74 bhp</td>\n",
       "      <td>5.0</td>\n",
       "      <td>450000</td>\n",
       "    </tr>\n",
       "    <tr>\n",
       "      <th>1</th>\n",
       "      <td>Skoda Rapid 1.5 TDI Ambition</td>\n",
       "      <td>2014</td>\n",
       "      <td>120000</td>\n",
       "      <td>Diesel</td>\n",
       "      <td>Individual</td>\n",
       "      <td>Manual</td>\n",
       "      <td>Second Owner</td>\n",
       "      <td>21.14 kmpl</td>\n",
       "      <td>1498 CC</td>\n",
       "      <td>103.52 bhp</td>\n",
       "      <td>5.0</td>\n",
       "      <td>370000</td>\n",
       "    </tr>\n",
       "    <tr>\n",
       "      <th>2</th>\n",
       "      <td>Honda City 2017-2020 EXi</td>\n",
       "      <td>2006</td>\n",
       "      <td>140000</td>\n",
       "      <td>Petrol</td>\n",
       "      <td>Individual</td>\n",
       "      <td>Manual</td>\n",
       "      <td>Third Owner</td>\n",
       "      <td>17.7 kmpl</td>\n",
       "      <td>1497 CC</td>\n",
       "      <td>78 bhp</td>\n",
       "      <td>5.0</td>\n",
       "      <td>158000</td>\n",
       "    </tr>\n",
       "    <tr>\n",
       "      <th>3</th>\n",
       "      <td>Hyundai i20 Sportz Diesel</td>\n",
       "      <td>2010</td>\n",
       "      <td>127000</td>\n",
       "      <td>Diesel</td>\n",
       "      <td>Individual</td>\n",
       "      <td>Manual</td>\n",
       "      <td>First Owner</td>\n",
       "      <td>23.0 kmpl</td>\n",
       "      <td>1396 CC</td>\n",
       "      <td>90 bhp</td>\n",
       "      <td>5.0</td>\n",
       "      <td>225000</td>\n",
       "    </tr>\n",
       "    <tr>\n",
       "      <th>4</th>\n",
       "      <td>Maruti Swift VXI BSIII</td>\n",
       "      <td>2007</td>\n",
       "      <td>120000</td>\n",
       "      <td>Petrol</td>\n",
       "      <td>Individual</td>\n",
       "      <td>Manual</td>\n",
       "      <td>First Owner</td>\n",
       "      <td>16.1 kmpl</td>\n",
       "      <td>1298 CC</td>\n",
       "      <td>88.2 bhp</td>\n",
       "      <td>5.0</td>\n",
       "      <td>130000</td>\n",
       "    </tr>\n",
       "    <tr>\n",
       "      <th>5</th>\n",
       "      <td>Hyundai Xcent 1.2 VTVT E Plus</td>\n",
       "      <td>2017</td>\n",
       "      <td>45000</td>\n",
       "      <td>Petrol</td>\n",
       "      <td>Individual</td>\n",
       "      <td>Manual</td>\n",
       "      <td>First Owner</td>\n",
       "      <td>20.14 kmpl</td>\n",
       "      <td>1197 CC</td>\n",
       "      <td>81.86 bhp</td>\n",
       "      <td>5.0</td>\n",
       "      <td>440000</td>\n",
       "    </tr>\n",
       "    <tr>\n",
       "      <th>6</th>\n",
       "      <td>Maruti Wagon R LXI DUO BSIII</td>\n",
       "      <td>2007</td>\n",
       "      <td>175000</td>\n",
       "      <td>LPG</td>\n",
       "      <td>Individual</td>\n",
       "      <td>Manual</td>\n",
       "      <td>First Owner</td>\n",
       "      <td>17.3 km/kg</td>\n",
       "      <td>1061 CC</td>\n",
       "      <td>57.5 bhp</td>\n",
       "      <td>5.0</td>\n",
       "      <td>96000</td>\n",
       "    </tr>\n",
       "  </tbody>\n",
       "</table>\n",
       "</div>"
      ],
      "text/plain": [
       "                            name  year  km_driven    fuel seller_type  \\\n",
       "0         Maruti Swift Dzire VDI  2014     145500  Diesel  Individual   \n",
       "1   Skoda Rapid 1.5 TDI Ambition  2014     120000  Diesel  Individual   \n",
       "2       Honda City 2017-2020 EXi  2006     140000  Petrol  Individual   \n",
       "3      Hyundai i20 Sportz Diesel  2010     127000  Diesel  Individual   \n",
       "4         Maruti Swift VXI BSIII  2007     120000  Petrol  Individual   \n",
       "5  Hyundai Xcent 1.2 VTVT E Plus  2017      45000  Petrol  Individual   \n",
       "6   Maruti Wagon R LXI DUO BSIII  2007     175000     LPG  Individual   \n",
       "\n",
       "  transmission         owner     mileage   engine   max_power  seats  \\\n",
       "0       Manual   First Owner   23.4 kmpl  1248 CC      74 bhp    5.0   \n",
       "1       Manual  Second Owner  21.14 kmpl  1498 CC  103.52 bhp    5.0   \n",
       "2       Manual   Third Owner   17.7 kmpl  1497 CC      78 bhp    5.0   \n",
       "3       Manual   First Owner   23.0 kmpl  1396 CC      90 bhp    5.0   \n",
       "4       Manual   First Owner   16.1 kmpl  1298 CC    88.2 bhp    5.0   \n",
       "5       Manual   First Owner  20.14 kmpl  1197 CC   81.86 bhp    5.0   \n",
       "6       Manual   First Owner  17.3 km/kg  1061 CC    57.5 bhp    5.0   \n",
       "\n",
       "   selling_price  \n",
       "0         450000  \n",
       "1         370000  \n",
       "2         158000  \n",
       "3         225000  \n",
       "4         130000  \n",
       "5         440000  \n",
       "6          96000  "
      ]
     },
     "execution_count": 5,
     "metadata": {},
     "output_type": "execute_result"
    }
   ],
   "source": [
    "data.head(7)"
   ]
  },
  {
   "cell_type": "code",
   "execution_count": 6,
   "metadata": {},
   "outputs": [],
   "source": [
    "data=data.drop(\"name\",axis=1)"
   ]
  },
  {
   "cell_type": "code",
   "execution_count": 7,
   "metadata": {},
   "outputs": [
    {
     "data": {
      "text/plain": [
       "(8128, 11)"
      ]
     },
     "execution_count": 7,
     "metadata": {},
     "output_type": "execute_result"
    }
   ],
   "source": [
    "data.shape"
   ]
  },
  {
   "cell_type": "code",
   "execution_count": 8,
   "metadata": {
    "colab": {
     "base_uri": "https://localhost:8080/"
    },
    "id": "1Nd3MsotC3dU",
    "outputId": "b5bca66f-2f39-479c-c16f-8205d012bae5"
   },
   "outputs": [
    {
     "data": {
      "text/plain": [
       "year               int64\n",
       "km_driven          int64\n",
       "fuel              object\n",
       "seller_type       object\n",
       "transmission      object\n",
       "owner             object\n",
       "mileage           object\n",
       "engine            object\n",
       "max_power         object\n",
       "seats            float64\n",
       "selling_price      int64\n",
       "dtype: object"
      ]
     },
     "execution_count": 8,
     "metadata": {},
     "output_type": "execute_result"
    }
   ],
   "source": [
    "data.dtypes"
   ]
  },
  {
   "cell_type": "markdown",
   "metadata": {},
   "source": [
    "## EDA and Visualization"
   ]
  },
  {
   "cell_type": "code",
   "execution_count": 9,
   "metadata": {
    "id": "AE-KX2jkK3XL"
   },
   "outputs": [],
   "source": [
    "l1=[\"mileage\",\"engine\",\"max_power\"]\n",
    "\n",
    "for i in l1:\n",
    "    data[i]=data[i].str.replace(\"[a-zA-Z, ,/]\",'')"
   ]
  },
  {
   "cell_type": "markdown",
   "metadata": {},
   "source": [
    "Removing units from mileage, engine and max_power"
   ]
  },
  {
   "cell_type": "code",
   "execution_count": 10,
   "metadata": {
    "id": "npV4DkoGIRPH"
   },
   "outputs": [],
   "source": [
    "for i in l1:\n",
    "    data[i]=pd.to_numeric(data[i])"
   ]
  },
  {
   "cell_type": "markdown",
   "metadata": {},
   "source": [
    "Converting the above transformed data into numeric data type."
   ]
  },
  {
   "cell_type": "code",
   "execution_count": 11,
   "metadata": {
    "colab": {
     "base_uri": "https://localhost:8080/",
     "height": 195
    },
    "id": "QfgRqKFvkoR1",
    "outputId": "f1b8f294-23fd-44d3-c880-861f47d07a5c"
   },
   "outputs": [
    {
     "data": {
      "text/html": [
       "<div>\n",
       "<style scoped>\n",
       "    .dataframe tbody tr th:only-of-type {\n",
       "        vertical-align: middle;\n",
       "    }\n",
       "\n",
       "    .dataframe tbody tr th {\n",
       "        vertical-align: top;\n",
       "    }\n",
       "\n",
       "    .dataframe thead th {\n",
       "        text-align: right;\n",
       "    }\n",
       "</style>\n",
       "<table border=\"1\" class=\"dataframe\">\n",
       "  <thead>\n",
       "    <tr style=\"text-align: right;\">\n",
       "      <th></th>\n",
       "      <th>year</th>\n",
       "      <th>km_driven</th>\n",
       "      <th>fuel</th>\n",
       "      <th>seller_type</th>\n",
       "      <th>transmission</th>\n",
       "      <th>owner</th>\n",
       "      <th>mileage</th>\n",
       "      <th>engine</th>\n",
       "      <th>max_power</th>\n",
       "      <th>seats</th>\n",
       "      <th>selling_price</th>\n",
       "    </tr>\n",
       "  </thead>\n",
       "  <tbody>\n",
       "    <tr>\n",
       "      <th>0</th>\n",
       "      <td>2014</td>\n",
       "      <td>145500</td>\n",
       "      <td>Diesel</td>\n",
       "      <td>Individual</td>\n",
       "      <td>Manual</td>\n",
       "      <td>First Owner</td>\n",
       "      <td>23.40</td>\n",
       "      <td>1248.0</td>\n",
       "      <td>74.00</td>\n",
       "      <td>5.0</td>\n",
       "      <td>450000</td>\n",
       "    </tr>\n",
       "    <tr>\n",
       "      <th>1</th>\n",
       "      <td>2014</td>\n",
       "      <td>120000</td>\n",
       "      <td>Diesel</td>\n",
       "      <td>Individual</td>\n",
       "      <td>Manual</td>\n",
       "      <td>Second Owner</td>\n",
       "      <td>21.14</td>\n",
       "      <td>1498.0</td>\n",
       "      <td>103.52</td>\n",
       "      <td>5.0</td>\n",
       "      <td>370000</td>\n",
       "    </tr>\n",
       "    <tr>\n",
       "      <th>2</th>\n",
       "      <td>2006</td>\n",
       "      <td>140000</td>\n",
       "      <td>Petrol</td>\n",
       "      <td>Individual</td>\n",
       "      <td>Manual</td>\n",
       "      <td>Third Owner</td>\n",
       "      <td>17.70</td>\n",
       "      <td>1497.0</td>\n",
       "      <td>78.00</td>\n",
       "      <td>5.0</td>\n",
       "      <td>158000</td>\n",
       "    </tr>\n",
       "    <tr>\n",
       "      <th>3</th>\n",
       "      <td>2010</td>\n",
       "      <td>127000</td>\n",
       "      <td>Diesel</td>\n",
       "      <td>Individual</td>\n",
       "      <td>Manual</td>\n",
       "      <td>First Owner</td>\n",
       "      <td>23.00</td>\n",
       "      <td>1396.0</td>\n",
       "      <td>90.00</td>\n",
       "      <td>5.0</td>\n",
       "      <td>225000</td>\n",
       "    </tr>\n",
       "    <tr>\n",
       "      <th>4</th>\n",
       "      <td>2007</td>\n",
       "      <td>120000</td>\n",
       "      <td>Petrol</td>\n",
       "      <td>Individual</td>\n",
       "      <td>Manual</td>\n",
       "      <td>First Owner</td>\n",
       "      <td>16.10</td>\n",
       "      <td>1298.0</td>\n",
       "      <td>88.20</td>\n",
       "      <td>5.0</td>\n",
       "      <td>130000</td>\n",
       "    </tr>\n",
       "  </tbody>\n",
       "</table>\n",
       "</div>"
      ],
      "text/plain": [
       "   year  km_driven    fuel seller_type transmission         owner  mileage  \\\n",
       "0  2014     145500  Diesel  Individual       Manual   First Owner    23.40   \n",
       "1  2014     120000  Diesel  Individual       Manual  Second Owner    21.14   \n",
       "2  2006     140000  Petrol  Individual       Manual   Third Owner    17.70   \n",
       "3  2010     127000  Diesel  Individual       Manual   First Owner    23.00   \n",
       "4  2007     120000  Petrol  Individual       Manual   First Owner    16.10   \n",
       "\n",
       "   engine  max_power  seats  selling_price  \n",
       "0  1248.0      74.00    5.0         450000  \n",
       "1  1498.0     103.52    5.0         370000  \n",
       "2  1497.0      78.00    5.0         158000  \n",
       "3  1396.0      90.00    5.0         225000  \n",
       "4  1298.0      88.20    5.0         130000  "
      ]
     },
     "execution_count": 11,
     "metadata": {},
     "output_type": "execute_result"
    }
   ],
   "source": [
    "data.head()"
   ]
  },
  {
   "cell_type": "code",
   "execution_count": 12,
   "metadata": {
    "colab": {
     "base_uri": "https://localhost:8080/"
    },
    "id": "YiyHjxD-s6vH",
    "outputId": "96d10cc2-37d9-43c9-9a83-277426495a82"
   },
   "outputs": [
    {
     "data": {
      "text/plain": [
       "year               0\n",
       "km_driven          0\n",
       "fuel               0\n",
       "seller_type        0\n",
       "transmission       0\n",
       "owner              0\n",
       "mileage          221\n",
       "engine           221\n",
       "max_power        222\n",
       "seats            221\n",
       "selling_price      0\n",
       "dtype: int64"
      ]
     },
     "execution_count": 12,
     "metadata": {},
     "output_type": "execute_result"
    }
   ],
   "source": [
    "data.isnull().sum()"
   ]
  },
  {
   "cell_type": "markdown",
   "metadata": {},
   "source": [
    "We can see that, there are null values in dataset."
   ]
  },
  {
   "cell_type": "code",
   "execution_count": 13,
   "metadata": {
    "colab": {
     "base_uri": "https://localhost:8080/"
    },
    "id": "sPWsF9njh95m",
    "outputId": "4bd9b1af-a573-45d0-c77b-2e3dc048de1a"
   },
   "outputs": [],
   "source": [
    "for i in data.columns:\n",
    "    if data[i].isnull().sum()>0:\n",
    "        data[i].fillna(data[i].mean(),inplace=True)"
   ]
  },
  {
   "cell_type": "markdown",
   "metadata": {},
   "source": [
    "Removing null values"
   ]
  },
  {
   "cell_type": "code",
   "execution_count": 14,
   "metadata": {
    "colab": {
     "base_uri": "https://localhost:8080/",
     "height": 284
    },
    "id": "lQRCKPC4hhSa",
    "outputId": "fc4f3308-5d00-4bb6-f87a-7139d8d580c3"
   },
   "outputs": [
    {
     "data": {
      "text/html": [
       "<div>\n",
       "<style scoped>\n",
       "    .dataframe tbody tr th:only-of-type {\n",
       "        vertical-align: middle;\n",
       "    }\n",
       "\n",
       "    .dataframe tbody tr th {\n",
       "        vertical-align: top;\n",
       "    }\n",
       "\n",
       "    .dataframe thead th {\n",
       "        text-align: right;\n",
       "    }\n",
       "</style>\n",
       "<table border=\"1\" class=\"dataframe\">\n",
       "  <thead>\n",
       "    <tr style=\"text-align: right;\">\n",
       "      <th></th>\n",
       "      <th>year</th>\n",
       "      <th>km_driven</th>\n",
       "      <th>mileage</th>\n",
       "      <th>engine</th>\n",
       "      <th>max_power</th>\n",
       "      <th>seats</th>\n",
       "      <th>selling_price</th>\n",
       "    </tr>\n",
       "  </thead>\n",
       "  <tbody>\n",
       "    <tr>\n",
       "      <th>count</th>\n",
       "      <td>8128.000000</td>\n",
       "      <td>8.128000e+03</td>\n",
       "      <td>8128.000000</td>\n",
       "      <td>8128.000000</td>\n",
       "      <td>8128.000000</td>\n",
       "      <td>8128.000000</td>\n",
       "      <td>8.128000e+03</td>\n",
       "    </tr>\n",
       "    <tr>\n",
       "      <th>mean</th>\n",
       "      <td>2013.804011</td>\n",
       "      <td>6.981951e+04</td>\n",
       "      <td>19.418783</td>\n",
       "      <td>1458.625016</td>\n",
       "      <td>91.587374</td>\n",
       "      <td>5.416719</td>\n",
       "      <td>6.382718e+05</td>\n",
       "    </tr>\n",
       "    <tr>\n",
       "      <th>std</th>\n",
       "      <td>4.044249</td>\n",
       "      <td>5.655055e+04</td>\n",
       "      <td>3.981875</td>\n",
       "      <td>497.017504</td>\n",
       "      <td>35.255594</td>\n",
       "      <td>0.946450</td>\n",
       "      <td>8.062534e+05</td>\n",
       "    </tr>\n",
       "    <tr>\n",
       "      <th>min</th>\n",
       "      <td>1983.000000</td>\n",
       "      <td>1.000000e+00</td>\n",
       "      <td>0.000000</td>\n",
       "      <td>624.000000</td>\n",
       "      <td>32.800000</td>\n",
       "      <td>2.000000</td>\n",
       "      <td>2.999900e+04</td>\n",
       "    </tr>\n",
       "    <tr>\n",
       "      <th>25%</th>\n",
       "      <td>2011.000000</td>\n",
       "      <td>3.500000e+04</td>\n",
       "      <td>16.800000</td>\n",
       "      <td>1197.000000</td>\n",
       "      <td>69.000000</td>\n",
       "      <td>5.000000</td>\n",
       "      <td>2.549990e+05</td>\n",
       "    </tr>\n",
       "    <tr>\n",
       "      <th>50%</th>\n",
       "      <td>2015.000000</td>\n",
       "      <td>6.000000e+04</td>\n",
       "      <td>19.418783</td>\n",
       "      <td>1248.000000</td>\n",
       "      <td>83.100000</td>\n",
       "      <td>5.000000</td>\n",
       "      <td>4.500000e+05</td>\n",
       "    </tr>\n",
       "    <tr>\n",
       "      <th>75%</th>\n",
       "      <td>2017.000000</td>\n",
       "      <td>9.800000e+04</td>\n",
       "      <td>22.277500</td>\n",
       "      <td>1582.000000</td>\n",
       "      <td>101.250000</td>\n",
       "      <td>5.000000</td>\n",
       "      <td>6.750000e+05</td>\n",
       "    </tr>\n",
       "    <tr>\n",
       "      <th>max</th>\n",
       "      <td>2020.000000</td>\n",
       "      <td>2.360457e+06</td>\n",
       "      <td>42.000000</td>\n",
       "      <td>3604.000000</td>\n",
       "      <td>400.000000</td>\n",
       "      <td>14.000000</td>\n",
       "      <td>1.000000e+07</td>\n",
       "    </tr>\n",
       "  </tbody>\n",
       "</table>\n",
       "</div>"
      ],
      "text/plain": [
       "              year     km_driven      mileage       engine    max_power  \\\n",
       "count  8128.000000  8.128000e+03  8128.000000  8128.000000  8128.000000   \n",
       "mean   2013.804011  6.981951e+04    19.418783  1458.625016    91.587374   \n",
       "std       4.044249  5.655055e+04     3.981875   497.017504    35.255594   \n",
       "min    1983.000000  1.000000e+00     0.000000   624.000000    32.800000   \n",
       "25%    2011.000000  3.500000e+04    16.800000  1197.000000    69.000000   \n",
       "50%    2015.000000  6.000000e+04    19.418783  1248.000000    83.100000   \n",
       "75%    2017.000000  9.800000e+04    22.277500  1582.000000   101.250000   \n",
       "max    2020.000000  2.360457e+06    42.000000  3604.000000   400.000000   \n",
       "\n",
       "             seats  selling_price  \n",
       "count  8128.000000   8.128000e+03  \n",
       "mean      5.416719   6.382718e+05  \n",
       "std       0.946450   8.062534e+05  \n",
       "min       2.000000   2.999900e+04  \n",
       "25%       5.000000   2.549990e+05  \n",
       "50%       5.000000   4.500000e+05  \n",
       "75%       5.000000   6.750000e+05  \n",
       "max      14.000000   1.000000e+07  "
      ]
     },
     "execution_count": 14,
     "metadata": {},
     "output_type": "execute_result"
    }
   ],
   "source": [
    "data.describe()"
   ]
  },
  {
   "cell_type": "code",
   "execution_count": 15,
   "metadata": {},
   "outputs": [
    {
     "data": {
      "image/png": "[encoded data removed]",
      "text/plain": [
       "<Figure size 432x288 with 1 Axes>"
      ]
     },
     "metadata": {
      "needs_background": "light"
     },
     "output_type": "display_data"
    }
   ],
   "source": [
    "plt.boxplot(data[l1], notch=None, vert=None, patch_artist=True, widths=None,labels=l1);"
   ]
  },
  {
   "cell_type": "markdown",
   "metadata": {},
   "source": [
    "From the above plot, we can identify that there are outliers in data."
   ]
  },
  {
   "cell_type": "code",
   "execution_count": 16,
   "metadata": {},
   "outputs": [],
   "source": [
    "l1=[\"mileage\",\"engine\",\"max_power\",\"km_driven\",\"seats\",\"selling_price\"]\n",
    "\n",
    "Q1 = data.quantile(0.25)\n",
    "Q3 = data.quantile(0.75)\n",
    "IQR = Q3 - Q1"
   ]
  },
  {
   "cell_type": "code",
   "execution_count": 17,
   "metadata": {},
   "outputs": [
    {
     "data": {
      "text/plain": [
       "engine           1183\n",
       "fuel                0\n",
       "km_driven         170\n",
       "max_power         611\n",
       "mileage            24\n",
       "owner               0\n",
       "seats            1874\n",
       "seller_type         0\n",
       "selling_price     600\n",
       "transmission        0\n",
       "year               81\n",
       "dtype: int64"
      ]
     },
     "execution_count": 17,
     "metadata": {},
     "output_type": "execute_result"
    }
   ],
   "source": [
    "((data < (Q1 - 1.5 * IQR)) | (data > (Q3 + 1.5 * IQR))).sum()"
   ]
  },
  {
   "cell_type": "markdown",
   "metadata": {},
   "source": [
    "The above code shows the total count of outliers in data."
   ]
  },
  {
   "cell_type": "code",
   "execution_count": 18,
   "metadata": {},
   "outputs": [],
   "source": [
    "data1 = data[~((data[l1] < (Q1 - 1.5 * IQR)) |(data[l1] > (Q3 + 1.5 * IQR))).any(axis=1)]"
   ]
  },
  {
   "cell_type": "markdown",
   "metadata": {},
   "source": [
    "Removing outliers using InterQuartileRange"
   ]
  },
  {
   "cell_type": "code",
   "execution_count": 19,
   "metadata": {},
   "outputs": [
    {
     "data": {
      "text/plain": [
       "((5659, 11), (8128, 11))"
      ]
     },
     "execution_count": 19,
     "metadata": {},
     "output_type": "execute_result"
    }
   ],
   "source": [
    "data1.shape,data.shape"
   ]
  },
  {
   "cell_type": "markdown",
   "metadata": {},
   "source": [
    "Comparing the size of original data(before removing outliers) and the transformed data(after removing outliers)"
   ]
  },
  {
   "cell_type": "code",
   "execution_count": 20,
   "metadata": {},
   "outputs": [
    {
     "data": {
      "text/plain": [
       "engine           620\n",
       "fuel               0\n",
       "km_driven         41\n",
       "max_power        285\n",
       "mileage            7\n",
       "owner              0\n",
       "seats              0\n",
       "seller_type        0\n",
       "selling_price     49\n",
       "transmission       0\n",
       "year              83\n",
       "dtype: int64"
      ]
     },
     "execution_count": 20,
     "metadata": {},
     "output_type": "execute_result"
    }
   ],
   "source": [
    "Q1 = data1.quantile(0.25)\n",
    "Q3 = data1.quantile(0.75)\n",
    "IQR = Q3 - Q1\n",
    "((data1 < (Q1 - 1.5 * IQR)) | (data1 > (Q3 + 1.5 * IQR))).sum()"
   ]
  },
  {
   "cell_type": "markdown",
   "metadata": {},
   "source": [
    "We can see that, there is decrease in the count of outliers."
   ]
  },
  {
   "cell_type": "markdown",
   "metadata": {},
   "source": [
    "### BAR CHART"
   ]
  },
  {
   "cell_type": "code",
   "execution_count": 21,
   "metadata": {},
   "outputs": [
    {
     "name": "stdout",
     "output_type": "stream",
     "text": [
      "fuel\n",
      "Diesel    4402\n",
      "Petrol    3631\n",
      "CNG         57\n",
      "LPG         38\n",
      "Name: fuel, dtype: int64\n"
     ]
    },
    {
     "data": {
      "image/png": "[encoded data removed]",
      "text/plain": [
       "<Figure size 360x216 with 1 Axes>"
      ]
     },
     "metadata": {
      "needs_background": "light"
     },
     "output_type": "display_data"
    },
    {
     "name": "stdout",
     "output_type": "stream",
     "text": [
      "seller_type\n",
      "Individual          6766\n",
      "Dealer              1126\n",
      "Trustmark Dealer     236\n",
      "Name: seller_type, dtype: int64\n"
     ]
    },
    {
     "data": {
      "image/png": "[encoded data removed]",
      "text/plain": [
       "<Figure size 360x216 with 1 Axes>"
      ]
     },
     "metadata": {
      "needs_background": "light"
     },
     "output_type": "display_data"
    },
    {
     "name": "stdout",
     "output_type": "stream",
     "text": [
      "transmission\n",
      "Manual       7078\n",
      "Automatic    1050\n",
      "Name: transmission, dtype: int64\n"
     ]
    },
    {
     "data": {
      "image/png": "[encoded data removed]",
      "text/plain": [
       "<Figure size 360x216 with 1 Axes>"
      ]
     },
     "metadata": {
      "needs_background": "light"
     },
     "output_type": "display_data"
    },
    {
     "name": "stdout",
     "output_type": "stream",
     "text": [
      "owner\n",
      "First Owner             5289\n",
      "Second Owner            2105\n",
      "Third Owner              555\n",
      "Fourth & Above Owner     174\n",
      "Test Drive Car             5\n",
      "Name: owner, dtype: int64\n"
     ]
    },
    {
     "data": {
      "image/png": "[encoded data removed]",
      "text/plain": [
       "<Figure size 360x216 with 1 Axes>"
      ]
     },
     "metadata": {
      "needs_background": "light"
     },
     "output_type": "display_data"
    }
   ],
   "source": [
    "categories = [\"fuel\",\"seller_type\",\"transmission\",\"owner\"]\n",
    "\n",
    "for i, c in enumerate(categories):\n",
    "    v = data[c].unique()\n",
    "    \n",
    "    g = data.groupby(by=c)[c].count().sort_values(ascending=False)\n",
    "    r = range(min(len(v), 5))\n",
    "\n",
    "    print( g.head())\n",
    "    plt.figure(figsize=(5,3))\n",
    "    plt.bar(r, g.head()) \n",
    "    #plt.xticks(r, v)\n",
    "    plt.xticks(r, g.index)\n",
    "    plt.xticks(rotation=90)\n",
    "    plt.show()"
   ]
  },
  {
   "cell_type": "markdown",
   "metadata": {},
   "source": [
    "1. From Figure 1: we can say that, maximum car is having diesel as a fuel, followed by petrol, CNG and LPG.\n",
    "2. From Figure 2: we can say that, the maximum seller type is Individual followed by Dealer and TrustMark Dealer.\n",
    "3. From Figure 3: we can say that, Manual cars are having maximum number of count.\n",
    "4. From Figure 4: the count of First owner is maximum and the least is Test Drive Car with count of 5."
   ]
  },
  {
   "cell_type": "markdown",
   "metadata": {},
   "source": [
    "### Scatter Plot"
   ]
  },
  {
   "cell_type": "code",
   "execution_count": 22,
   "metadata": {},
   "outputs": [
    {
     "data": {
      "image/png": "[encoded data removed]",
      "text/plain": [
       "<Figure size 1080x720 with 1 Axes>"
      ]
     },
     "metadata": {
      "needs_background": "light"
     },
     "output_type": "display_data"
    }
   ],
   "source": [
    "#year and transmission feature\n",
    "\n",
    "fig, scatter = plt.subplots(figsize = (15,10))\n",
    "scatter = sns.scatterplot(data=data, x=\"year\", y=\"selling_price\", hue=\"transmission\")"
   ]
  },
  {
   "cell_type": "markdown",
   "metadata": {},
   "source": [
    "In general, the mean and deviation of car prices increase with each year, and cars with automatic transmission tend to be more expensive."
   ]
  },
  {
   "cell_type": "markdown",
   "metadata": {},
   "source": [
    "### Scatter Plot"
   ]
  },
  {
   "cell_type": "code",
   "execution_count": 23,
   "metadata": {},
   "outputs": [
    {
     "data": {
      "image/png": "[encoded data removed]",
      "text/plain": [
       "<Figure size 1080x720 with 1 Axes>"
      ]
     },
     "metadata": {
      "needs_background": "light"
     },
     "output_type": "display_data"
    }
   ],
   "source": [
    "#km_driven and seller_type features\n",
    "\n",
    "fig, scatter = plt.subplots(figsize = (15,10))\n",
    "scatter = sns.scatterplot(data=data, x=\"km_driven\", y=\"selling_price\",hue=\"seller_type\", palette=\"deep\")\n"
   ]
  },
  {
   "cell_type": "markdown",
   "metadata": {},
   "source": [
    "As can be seen, selling prices tend to go down with the rise of km_driven. Also, cars with 200000-400000 km driven are usually sold by individuals."
   ]
  },
  {
   "cell_type": "markdown",
   "metadata": {},
   "source": [
    "### Sub Scatter Plots"
   ]
  },
  {
   "cell_type": "code",
   "execution_count": 24,
   "metadata": {},
   "outputs": [],
   "source": [
    "#engine and max_power features\n",
    "\n",
    "def plot_col_signif(data, feat_cols, targ_col, n_rows=1, n_cols=1):\n",
    "    fig, axes = plt.subplots(nrows = n_rows, ncols = n_cols, figsize=(6*n_cols,4*n_rows), squeeze=False, constrained_layout = True)\n",
    "\n",
    "    for i in range(n_rows):\n",
    "        for j in range(n_cols):\n",
    "            try:\n",
    "                feat_col = feat_cols[i*n_cols+j]\n",
    "            except:\n",
    "                plt.show()\n",
    "                return\n",
    "            \n",
    "            pears_corr = data.corr()[feat_col][targ_col]\n",
    "            spear_corr = data.corr(method='spearman')[feat_col][targ_col]\n",
    "            \n",
    "            axes[i,j].scatter(data[feat_col], data[targ_col])\n",
    "            axes[i,j].set_xlabel('feature')\n",
    "            axes[i,j].set_ylabel('target')\n",
    "            axes[i,j].set_title(f'Feature: {feat_col}\\nPearson\\'s r = {pears_corr:.2f}\\n Spearman\\'s ρ = {spear_corr:.2f}')\n",
    "            \n",
    "plt.show()"
   ]
  },
  {
   "cell_type": "code",
   "execution_count": 25,
   "metadata": {},
   "outputs": [
    {
     "data": {
      "image/png": "[encoded data removed]",
      "text/plain": [
       "<Figure size 864x288 with 2 Axes>"
      ]
     },
     "metadata": {
      "needs_background": "light"
     },
     "output_type": "display_data"
    }
   ],
   "source": [
    "plot_col_signif(data, ['engine', 'max_power'], 'selling_price', 1, 2)"
   ]
  },
  {
   "cell_type": "markdown",
   "metadata": {},
   "source": [
    "The scatter plots above represent dependency between engine, max_power and selling_price.\n",
    "<br>\n",
    "As it is observed, both features have a moderate-high correlation with the selling price."
   ]
  },
  {
   "cell_type": "markdown",
   "metadata": {},
   "source": [
    "### HeatMap"
   ]
  },
  {
   "cell_type": "code",
   "execution_count": 26,
   "metadata": {},
   "outputs": [
    {
     "data": {
      "image/png": "[encoded data removed]",
      "text/plain": [
       "<Figure size 720x720 with 2 Axes>"
      ]
     },
     "metadata": {
      "needs_background": "light"
     },
     "output_type": "display_data"
    }
   ],
   "source": [
    "corrmat = data.corr()\n",
    "top_corr_feature = corrmat.index\n",
    "plt.figure(figsize = (10,10))\n",
    "g = sns.heatmap(data[top_corr_feature].corr(),annot = True, cmap = 'RdYlGn')"
   ]
  },
  {
   "cell_type": "markdown",
   "metadata": {},
   "source": [
    "The above heatmap shows that, the value closer to 1 i.e: shaded with green color is having positive relationship.\n",
    "The values nearer to -0.4 i.e: shaded with red is having negative relationship."
   ]
  },
  {
   "cell_type": "markdown",
   "metadata": {},
   "source": [
    "### Correlation"
   ]
  },
  {
   "cell_type": "code",
   "execution_count": 27,
   "metadata": {},
   "outputs": [
    {
     "data": {
      "text/html": [
       "<div>\n",
       "<style scoped>\n",
       "    .dataframe tbody tr th:only-of-type {\n",
       "        vertical-align: middle;\n",
       "    }\n",
       "\n",
       "    .dataframe tbody tr th {\n",
       "        vertical-align: top;\n",
       "    }\n",
       "\n",
       "    .dataframe thead th {\n",
       "        text-align: right;\n",
       "    }\n",
       "</style>\n",
       "<table border=\"1\" class=\"dataframe\">\n",
       "  <thead>\n",
       "    <tr style=\"text-align: right;\">\n",
       "      <th></th>\n",
       "      <th>year</th>\n",
       "      <th>km_driven</th>\n",
       "      <th>mileage</th>\n",
       "      <th>engine</th>\n",
       "      <th>max_power</th>\n",
       "      <th>seats</th>\n",
       "      <th>selling_price</th>\n",
       "    </tr>\n",
       "  </thead>\n",
       "  <tbody>\n",
       "    <tr>\n",
       "      <th>year</th>\n",
       "      <td>1.000000</td>\n",
       "      <td>-0.418006</td>\n",
       "      <td>0.310383</td>\n",
       "      <td>0.017773</td>\n",
       "      <td>0.213504</td>\n",
       "      <td>-0.008623</td>\n",
       "      <td>0.414092</td>\n",
       "    </tr>\n",
       "    <tr>\n",
       "      <th>km_driven</th>\n",
       "      <td>-0.418006</td>\n",
       "      <td>1.000000</td>\n",
       "      <td>-0.171426</td>\n",
       "      <td>0.203954</td>\n",
       "      <td>-0.037795</td>\n",
       "      <td>0.225172</td>\n",
       "      <td>-0.225534</td>\n",
       "    </tr>\n",
       "    <tr>\n",
       "      <th>mileage</th>\n",
       "      <td>0.310383</td>\n",
       "      <td>-0.171426</td>\n",
       "      <td>1.000000</td>\n",
       "      <td>-0.575831</td>\n",
       "      <td>-0.374515</td>\n",
       "      <td>-0.452085</td>\n",
       "      <td>-0.125454</td>\n",
       "    </tr>\n",
       "    <tr>\n",
       "      <th>engine</th>\n",
       "      <td>0.017773</td>\n",
       "      <td>0.203954</td>\n",
       "      <td>-0.575831</td>\n",
       "      <td>1.000000</td>\n",
       "      <td>0.703898</td>\n",
       "      <td>0.610309</td>\n",
       "      <td>0.453567</td>\n",
       "    </tr>\n",
       "    <tr>\n",
       "      <th>max_power</th>\n",
       "      <td>0.213504</td>\n",
       "      <td>-0.037795</td>\n",
       "      <td>-0.374515</td>\n",
       "      <td>0.703898</td>\n",
       "      <td>1.000000</td>\n",
       "      <td>0.191911</td>\n",
       "      <td>0.746085</td>\n",
       "    </tr>\n",
       "    <tr>\n",
       "      <th>seats</th>\n",
       "      <td>-0.008623</td>\n",
       "      <td>0.225172</td>\n",
       "      <td>-0.452085</td>\n",
       "      <td>0.610309</td>\n",
       "      <td>0.191911</td>\n",
       "      <td>1.000000</td>\n",
       "      <td>0.041161</td>\n",
       "    </tr>\n",
       "    <tr>\n",
       "      <th>selling_price</th>\n",
       "      <td>0.414092</td>\n",
       "      <td>-0.225534</td>\n",
       "      <td>-0.125454</td>\n",
       "      <td>0.453567</td>\n",
       "      <td>0.746085</td>\n",
       "      <td>0.041161</td>\n",
       "      <td>1.000000</td>\n",
       "    </tr>\n",
       "  </tbody>\n",
       "</table>\n",
       "</div>"
      ],
      "text/plain": [
       "                   year  km_driven   mileage    engine  max_power     seats  \\\n",
       "year           1.000000  -0.418006  0.310383  0.017773   0.213504 -0.008623   \n",
       "km_driven     -0.418006   1.000000 -0.171426  0.203954  -0.037795  0.225172   \n",
       "mileage        0.310383  -0.171426  1.000000 -0.575831  -0.374515 -0.452085   \n",
       "engine         0.017773   0.203954 -0.575831  1.000000   0.703898  0.610309   \n",
       "max_power      0.213504  -0.037795 -0.374515  0.703898   1.000000  0.191911   \n",
       "seats         -0.008623   0.225172 -0.452085  0.610309   0.191911  1.000000   \n",
       "selling_price  0.414092  -0.225534 -0.125454  0.453567   0.746085  0.041161   \n",
       "\n",
       "               selling_price  \n",
       "year                0.414092  \n",
       "km_driven          -0.225534  \n",
       "mileage            -0.125454  \n",
       "engine              0.453567  \n",
       "max_power           0.746085  \n",
       "seats               0.041161  \n",
       "selling_price       1.000000  "
      ]
     },
     "execution_count": 27,
     "metadata": {},
     "output_type": "execute_result"
    }
   ],
   "source": [
    "data.corr()"
   ]
  },
  {
   "cell_type": "markdown",
   "metadata": {},
   "source": [
    "The above correlation matrix shows the relationship between each and every variables.\n",
    "The value closer to one, have positive correlation and the values closer to -1 have nagative correlation. The values nearer to zero have no correlation."
   ]
  },
  {
   "cell_type": "markdown",
   "metadata": {},
   "source": [
    "#### Label Encoding"
   ]
  },
  {
   "cell_type": "code",
   "execution_count": 28,
   "metadata": {},
   "outputs": [],
   "source": [
    "features = data.drop(\"selling_price\", axis=1)"
   ]
  },
  {
   "cell_type": "code",
   "execution_count": 29,
   "metadata": {
    "id": "H4tSS6iyjUjR"
   },
   "outputs": [],
   "source": [
    "le=[]\n",
    "for i in data.columns:\n",
    "    if data.dtypes[i]==object:\n",
    "        data[i] = LabelEncoder().fit_transform(data[i])"
   ]
  },
  {
   "cell_type": "markdown",
   "metadata": {},
   "source": [
    "#### Spliting data into X and y for train test split"
   ]
  },
  {
   "cell_type": "code",
   "execution_count": 30,
   "metadata": {
    "id": "MsIO3rOfVc9V"
   },
   "outputs": [],
   "source": [
    "X = data.drop(\"selling_price\", axis=1)\n",
    "y = data[\"selling_price\"]"
   ]
  },
  {
   "cell_type": "markdown",
   "metadata": {},
   "source": [
    "#### Scaling"
   ]
  },
  {
   "cell_type": "code",
   "execution_count": 31,
   "metadata": {
    "id": "Qb4r1gthjBLS"
   },
   "outputs": [],
   "source": [
    "from sklearn.preprocessing import StandardScaler\n",
    "scaler = StandardScaler()\n",
    "s = scaler.fit(X)\n",
    "X_scaled=s.transform(X)"
   ]
  },
  {
   "cell_type": "markdown",
   "metadata": {},
   "source": [
    "#### Train Test Split"
   ]
  },
  {
   "cell_type": "code",
   "execution_count": 32,
   "metadata": {
    "id": "sioXTwWYjizS"
   },
   "outputs": [],
   "source": [
    "from sklearn.model_selection import train_test_split\n",
    "X_train, X_test, y_train, y_test = train_test_split(X_scaled, y, test_size=0.10, random_state=42)"
   ]
  },
  {
   "cell_type": "markdown",
   "metadata": {},
   "source": [
    "## Modeling"
   ]
  },
  {
   "cell_type": "code",
   "execution_count": 33,
   "metadata": {},
   "outputs": [],
   "source": [
    "rmse=[]\n",
    "model_n=[]\n",
    "r2_s=[]\n",
    "\n",
    "random = RandomForestRegressor()\n",
    "dt=DecisionTreeRegressor()\n",
    "lr=LinearRegression()\n",
    "lasso=Lasso()\n",
    "ridge=Ridge()\n",
    "models = [random,dt,lr,lasso,ridge]\n",
    "    \n",
    "for model in models:\n",
    "    model=model.fit(X_train, y_train)\n",
    "    \n",
    "    # Predict the Test set results\n",
    "    y_pred = model.predict(X_test)\n",
    "    rmse_val=sqrt(mean_squared_error(y_test, y_pred)) \n",
    "    r2=r2_score(y_test,y_pred)\n",
    "    rmse.append(rmse_val)\n",
    "    model_n.append(str(model))\n",
    "    r2_s.append(r2)"
   ]
  },
  {
   "cell_type": "markdown",
   "metadata": {},
   "source": [
    "### HyperParameter Tunning"
   ]
  },
  {
   "cell_type": "code",
   "execution_count": 34,
   "metadata": {},
   "outputs": [
    {
     "name": "stdout",
     "output_type": "stream",
     "text": [
      "DecisionTreeRegressor(random_state=0)\n",
      "{'splitter': ['best', 'random'], 'max_depth': [1, 3, 9, 11], 'min_samples_leaf': [1, 5, 10], 'min_weight_fraction_leaf': [0.1, 0.4, 0, 0.8], 'max_features': ['auto', 'log2', 'sqrt', None], 'max_leaf_nodes': [None, 10, 70, 100]} DecisionTreeRegressor(random_state=0)\n",
      "Lasso(random_state=0)\n",
      "{'alpha': [0.02, 0.025]} Lasso(random_state=0)\n",
      "Ridge(random_state=0)\n",
      "{'alpha': [200, 265, 290, 500]} Ridge(random_state=0)\n"
     ]
    }
   ],
   "source": [
    "param_decision={\"splitter\":[\"best\",\"random\"],\n",
    "                \"max_depth\" : [1,3,9,11],\n",
    "                \"min_samples_leaf\":[1,5,10],\n",
    "                \"min_weight_fraction_leaf\":[0.1,0.4,0,0.8],\n",
    "                \"max_features\":[\"auto\",\"log2\",\"sqrt\",None],\n",
    "                \"max_leaf_nodes\":[None,10,70,100] }\n",
    "\n",
    "param_lasso = {'alpha':[0.02,  0.025]}\n",
    "\n",
    "param_ridge = {'alpha':[200,265, 290,500]}\n",
    "\n",
    "params=[param_decision,param_lasso,param_ridge]\n",
    "\n",
    "dt = DecisionTreeRegressor(random_state=0)\n",
    "lasso=Lasso(random_state=0)\n",
    "ridge=Ridge(random_state=0)\n",
    "\n",
    "Models=[dt,lasso,ridge]\n",
    "\n",
    "for i, j in zip(params,Models):\n",
    "    print(j)\n",
    "    grid_search = GridSearchCV(estimator=j, param_grid=i, scoring = \"r2\")\n",
    "    grid_search.fit(X_train, y_train)\n",
    "    grid_search.best_estimator_\n",
    "    model=grid_search.best_estimator_\n",
    "    print(i,j)\n",
    "    \n",
    "    y_pred = model.predict(X_test)\n",
    "    rmse_val=sqrt(mean_squared_error(y_test, y_pred)) \n",
    "    r2=r2_score(y_test,y_pred)\n",
    "    rmse.append(rmse_val)\n",
    "    model_n.append(\"Hyperparameter \"+str(j))\n",
    "    r2_s.append(r2)"
   ]
  },
  {
   "cell_type": "code",
   "execution_count": 35,
   "metadata": {},
   "outputs": [],
   "source": [
    "d1 = list(zip(model_n, rmse,r2_s))\n",
    " \n",
    "df = pd.DataFrame(d1,\n",
    "                  columns=['Model', 'RMSE','R Score'])\n",
    "df=df.sort_values(\"R Score\",ascending=False)\n"
   ]
  },
  {
   "cell_type": "code",
   "execution_count": 36,
   "metadata": {},
   "outputs": [
    {
     "data": {
      "text/html": [
       "<div>\n",
       "<style scoped>\n",
       "    .dataframe tbody tr th:only-of-type {\n",
       "        vertical-align: middle;\n",
       "    }\n",
       "\n",
       "    .dataframe tbody tr th {\n",
       "        vertical-align: top;\n",
       "    }\n",
       "\n",
       "    .dataframe thead th {\n",
       "        text-align: right;\n",
       "    }\n",
       "</style>\n",
       "<table border=\"1\" class=\"dataframe\">\n",
       "  <thead>\n",
       "    <tr style=\"text-align: right;\">\n",
       "      <th></th>\n",
       "      <th>Model</th>\n",
       "      <th>RMSE</th>\n",
       "      <th>R Score</th>\n",
       "    </tr>\n",
       "  </thead>\n",
       "  <tbody>\n",
       "    <tr>\n",
       "      <th>0</th>\n",
       "      <td>RandomForestRegressor()</td>\n",
       "      <td>130658.130869</td>\n",
       "      <td>0.976388</td>\n",
       "    </tr>\n",
       "    <tr>\n",
       "      <th>5</th>\n",
       "      <td>Hyperparameter DecisionTreeRegressor(random_st...</td>\n",
       "      <td>138009.662195</td>\n",
       "      <td>0.973656</td>\n",
       "    </tr>\n",
       "    <tr>\n",
       "      <th>1</th>\n",
       "      <td>DecisionTreeRegressor()</td>\n",
       "      <td>147738.898827</td>\n",
       "      <td>0.969811</td>\n",
       "    </tr>\n",
       "    <tr>\n",
       "      <th>2</th>\n",
       "      <td>LinearRegression()</td>\n",
       "      <td>474054.418707</td>\n",
       "      <td>0.689172</td>\n",
       "    </tr>\n",
       "    <tr>\n",
       "      <th>6</th>\n",
       "      <td>Hyperparameter Lasso(random_state=0)</td>\n",
       "      <td>474054.419048</td>\n",
       "      <td>0.689172</td>\n",
       "    </tr>\n",
       "    <tr>\n",
       "      <th>3</th>\n",
       "      <td>Lasso()</td>\n",
       "      <td>474054.438318</td>\n",
       "      <td>0.689172</td>\n",
       "    </tr>\n",
       "    <tr>\n",
       "      <th>4</th>\n",
       "      <td>Ridge()</td>\n",
       "      <td>474062.234902</td>\n",
       "      <td>0.689162</td>\n",
       "    </tr>\n",
       "    <tr>\n",
       "      <th>7</th>\n",
       "      <td>Hyperparameter Ridge(random_state=0)</td>\n",
       "      <td>475714.593530</td>\n",
       "      <td>0.686991</td>\n",
       "    </tr>\n",
       "  </tbody>\n",
       "</table>\n",
       "</div>"
      ],
      "text/plain": [
       "                                               Model           RMSE   R Score\n",
       "0                            RandomForestRegressor()  130658.130869  0.976388\n",
       "5  Hyperparameter DecisionTreeRegressor(random_st...  138009.662195  0.973656\n",
       "1                            DecisionTreeRegressor()  147738.898827  0.969811\n",
       "2                                 LinearRegression()  474054.418707  0.689172\n",
       "6               Hyperparameter Lasso(random_state=0)  474054.419048  0.689172\n",
       "3                                            Lasso()  474054.438318  0.689172\n",
       "4                                            Ridge()  474062.234902  0.689162\n",
       "7               Hyperparameter Ridge(random_state=0)  475714.593530  0.686991"
      ]
     },
     "execution_count": 36,
     "metadata": {},
     "output_type": "execute_result"
    }
   ],
   "source": [
    "df"
   ]
  },
  {
   "cell_type": "markdown",
   "metadata": {},
   "source": [
    "From the above dataframe we can see that RandomForestRegressor is having the highest R Score i;e: 97.52"
   ]
  },
  {
   "cell_type": "markdown",
   "metadata": {},
   "source": [
    "## Model Deployment"
   ]
  },
  {
   "cell_type": "code",
   "execution_count": 37,
   "metadata": {},
   "outputs": [],
   "source": [
    "numeric_features=[i for i in features.columns if features.dtypes[i]!=object]\n",
    "categorical_features=[i for i in features.columns if features.dtypes[i]==object]\n",
    "\n",
    "dictionary={}\n",
    "for i in categorical_features:\n",
    "    dictionary[str(i)]={}\n",
    "    dictionary[str(i)][str(features[i].unique())]=str(X[i].unique())"
   ]
  },
  {
   "cell_type": "code",
   "execution_count": 38,
   "metadata": {},
   "outputs": [
    {
     "name": "stdout",
     "output_type": "stream",
     "text": [
      "Enter year : 2021\n",
      "Enter km_driven : 45200\n",
      "Enter mileage : 45\n",
      "Enter engine : 12\n",
      "Enter max_power : 20\n",
      "Enter seats : 5\n",
      "Enter from the given options for fuel{\"['Diesel' 'Petrol' 'LPG' 'CNG']\": '[1 3 2 0]'} : 1\n",
      "Enter from the given options for seller_type{\"['Individual' 'Dealer' 'Trustmark Dealer']\": '[1 0 2]'} : 1\n",
      "Enter from the given options for transmission{\"['Manual' 'Automatic']\": '[1 0]'} : 0\n",
      "Enter from the given options for owner{\"['First Owner' 'Second Owner' 'Third Owner' 'Fourth & Above Owner'\\n 'Test Drive Car']\": '[0 2 4 1 3]'} : 0\n"
     ]
    }
   ],
   "source": [
    "userinput={}\n",
    "for i in numeric_features:\n",
    "    userentry=float(input(\"Enter \"+ i +\" : \"))\n",
    "    userinput[str(i)]=userentry\n",
    "    \n",
    "for i,j in zip(categorical_features, range(0,5)):\n",
    "    key, val = list(dictionary.items())[j]\n",
    "    userentry=input(\"Enter from the given options for \"+str(i)+ str(val)+\" : \")\n",
    "    userinput[str(i)]=userentry"
   ]
  },
  {
   "cell_type": "code",
   "execution_count": 39,
   "metadata": {
    "scrolled": true
   },
   "outputs": [
    {
     "data": {
      "text/html": [
       "<div>\n",
       "<style scoped>\n",
       "    .dataframe tbody tr th:only-of-type {\n",
       "        vertical-align: middle;\n",
       "    }\n",
       "\n",
       "    .dataframe tbody tr th {\n",
       "        vertical-align: top;\n",
       "    }\n",
       "\n",
       "    .dataframe thead th {\n",
       "        text-align: right;\n",
       "    }\n",
       "</style>\n",
       "<table border=\"1\" class=\"dataframe\">\n",
       "  <thead>\n",
       "    <tr style=\"text-align: right;\">\n",
       "      <th></th>\n",
       "      <th>year</th>\n",
       "      <th>km_driven</th>\n",
       "      <th>mileage</th>\n",
       "      <th>engine</th>\n",
       "      <th>max_power</th>\n",
       "      <th>seats</th>\n",
       "      <th>fuel</th>\n",
       "      <th>seller_type</th>\n",
       "      <th>transmission</th>\n",
       "      <th>owner</th>\n",
       "    </tr>\n",
       "  </thead>\n",
       "  <tbody>\n",
       "    <tr>\n",
       "      <th>0</th>\n",
       "      <td>2021.0</td>\n",
       "      <td>45200.0</td>\n",
       "      <td>45.0</td>\n",
       "      <td>12.0</td>\n",
       "      <td>20.0</td>\n",
       "      <td>5.0</td>\n",
       "      <td>1</td>\n",
       "      <td>1</td>\n",
       "      <td>0</td>\n",
       "      <td>0</td>\n",
       "    </tr>\n",
       "  </tbody>\n",
       "</table>\n",
       "</div>"
      ],
      "text/plain": [
       "     year km_driven mileage engine max_power seats fuel seller_type  \\\n",
       "0  2021.0   45200.0    45.0   12.0      20.0   5.0    1           1   \n",
       "\n",
       "  transmission owner  \n",
       "0            0     0  "
      ]
     },
     "execution_count": 39,
     "metadata": {},
     "output_type": "execute_result"
    }
   ],
   "source": [
    "user_data = pd.DataFrame.from_dict(userinput, orient ='index').T\n",
    "user_data"
   ]
  },
  {
   "cell_type": "code",
   "execution_count": 40,
   "metadata": {},
   "outputs": [],
   "source": [
    "X_newscaled=s.transform(user_data)"
   ]
  },
  {
   "cell_type": "code",
   "execution_count": 41,
   "metadata": {},
   "outputs": [
    {
     "name": "stdout",
     "output_type": "stream",
     "text": [
      "The predicted selling price for your car is:  [212456.64]\n"
     ]
    }
   ],
   "source": [
    "model=RandomForestRegressor()\n",
    "\n",
    "fitted_model=model.fit(X_train, y_train)\n",
    "\n",
    "prediction = fitted_model.predict(X_newscaled)\n",
    "\n",
    "print(\"The predicted selling price for your car is: \",prediction)"
   ]
  },
  {
   "cell_type": "code",
   "execution_count": 42,
   "metadata": {},
   "outputs": [
    {
     "name": "stdout",
     "output_type": "stream",
     "text": [
      "[0.20377369 0.02113695 0.00312284 0.0056895  0.0023804  0.00190828\n",
      " 0.01907292 0.02011948 0.7190056  0.00379033]\n"
     ]
    }
   ],
   "source": [
    "print(fitted_model.feature_importances_)"
   ]
  },
  {
   "cell_type": "code",
   "execution_count": 43,
   "metadata": {},
   "outputs": [
    {
     "data": {
      "text/plain": [
       "year            0.203774\n",
       "km_driven       0.021137\n",
       "fuel            0.003123\n",
       "seller_type     0.005690\n",
       "transmission    0.002380\n",
       "owner           0.001908\n",
       "mileage         0.019073\n",
       "engine          0.020119\n",
       "max_power       0.719006\n",
       "seats           0.003790\n",
       "dtype: float64"
      ]
     },
     "execution_count": 43,
     "metadata": {},
     "output_type": "execute_result"
    }
   ],
   "source": [
    "feat_importances = pd.Series(fitted_model.feature_importances_, index = X.columns)\n",
    "feat_importances"
   ]
  },
  {
   "cell_type": "code",
   "execution_count": 44,
   "metadata": {},
   "outputs": [
    {
     "data": {
      "image/png": "[encoded data removed]",
      "text/plain": [
       "<Figure size 432x288 with 1 Axes>"
      ]
     },
     "metadata": {
      "needs_background": "light"
     },
     "output_type": "display_data"
    }
   ],
   "source": [
    "feat_importances.plot(kind = 'barh')\n",
    "plt.show()"
   ]
  },
  {
   "cell_type": "markdown",
   "id": "66668ec2",
   "metadata": {},
   "source": [
    "## Conclusion: \n",
    "Concluding the lab: For this lab we had to go with model building using various machine learning techniques starting from data preprocessing, feature engineering, tuning the model, finalising the model based on the highest accuracy.\n",
    "\n",
    "Overall, a good practice to learn all the techniques and logics and algorithms behind ML models."
   ]
  },
  {
   "cell_type": "markdown",
   "id": "46c31767",
   "metadata": {},
   "source": [
    "# SECTION 5"
   ]
  },
  {
   "cell_type": "markdown",
   "id": "70d8c466",
   "metadata": {},
   "source": [
    "## Reference Links:\n",
    "1. https://www.geeksforgeeks.org/introduction-to-pysimplegui/\n",
    "2. https://github.com/PySimpleGUI/PySimpleGUI/issues/2247\n",
    "3. https://easygui.readthedocs.io/en/latest/api.html"
   ]
  }
 ],
 "metadata": {
  "colab": {
   "collapsed_sections": [],
   "name": "Car",
   "provenance": []
  },
  "kernelspec": {
   "display_name": "Python 3 (ipykernel)",
   "language": "python",
   "name": "python3"
  },
  "language_info": {
   "codemirror_mode": {
    "name": "ipython",
    "version": 3
   },
   "file_extension": ".py",
   "mimetype": "text/x-python",
   "name": "python",
   "nbconvert_exporter": "python",
   "pygments_lexer": "ipython3",
   "version": "3.9.7"
  }
 },
 "nbformat": 4,
 "nbformat_minor": 1
}
